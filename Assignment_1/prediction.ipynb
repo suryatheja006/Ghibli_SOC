{
 "cells": [
  {
   "cell_type": "code",
   "execution_count": 2,
   "id": "c996ab02",
   "metadata": {},
   "outputs": [],
   "source": [
    "import numpy as np\n",
    "import pandas as pd"
   ]
  },
  {
   "cell_type": "code",
   "execution_count": 3,
   "id": "417c7f57",
   "metadata": {},
   "outputs": [
    {
     "name": "stdout",
     "output_type": "stream",
     "text": [
      "(1460, 81)\n",
      "(1459, 80)\n"
     ]
    }
   ],
   "source": [
    "#Reading from csv file\n",
    "data_train = pd.read_csv(\"train.csv\")\n",
    "data_test = pd.read_csv(\"test.csv\")\n",
    "\n",
    "print(data_train.shape)\n",
    "print(data_test.shape)"
   ]
  },
  {
   "cell_type": "code",
   "execution_count": 5,
   "id": "e960da09",
   "metadata": {},
   "outputs": [
    {
     "name": "stdout",
     "output_type": "stream",
     "text": [
      "(1460, 36)\n",
      "(1459, 36)\n",
      "      MSSubClass  LotFrontage  LotArea  OverallQual  OverallCond  YearBuilt  \\\n",
      "0             60         65.0     8450            7            5       2003   \n",
      "1             20         80.0     9600            6            8       1976   \n",
      "2             60         68.0    11250            7            5       2001   \n",
      "3             70         60.0     9550            7            5       1915   \n",
      "4             60         84.0    14260            8            5       2000   \n",
      "...          ...          ...      ...          ...          ...        ...   \n",
      "1455          60         62.0     7917            6            5       1999   \n",
      "1456          20         85.0    13175            6            6       1978   \n",
      "1457          70         66.0     9042            7            9       1941   \n",
      "1458          20         68.0     9717            5            6       1950   \n",
      "1459          20         75.0     9937            5            6       1965   \n",
      "\n",
      "      YearRemodAdd  MasVnrArea  BsmtFinSF1  BsmtFinSF2  ...  GarageArea  \\\n",
      "0             2003       196.0         706           0  ...         548   \n",
      "1             1976         0.0         978           0  ...         460   \n",
      "2             2002       162.0         486           0  ...         608   \n",
      "3             1970         0.0         216           0  ...         642   \n",
      "4             2000       350.0         655           0  ...         836   \n",
      "...            ...         ...         ...         ...  ...         ...   \n",
      "1455          2000         0.0           0           0  ...         460   \n",
      "1456          1988       119.0         790         163  ...         500   \n",
      "1457          2006         0.0         275           0  ...         252   \n",
      "1458          1996         0.0          49        1029  ...         240   \n",
      "1459          1965         0.0         830         290  ...         276   \n",
      "\n",
      "      WoodDeckSF  OpenPorchSF  EnclosedPorch  3SsnPorch  ScreenPorch  \\\n",
      "0              0           61              0          0            0   \n",
      "1            298            0              0          0            0   \n",
      "2              0           42              0          0            0   \n",
      "3              0           35            272          0            0   \n",
      "4            192           84              0          0            0   \n",
      "...          ...          ...            ...        ...          ...   \n",
      "1455           0           40              0          0            0   \n",
      "1456         349            0              0          0            0   \n",
      "1457           0           60              0          0            0   \n",
      "1458         366            0            112          0            0   \n",
      "1459         736           68              0          0            0   \n",
      "\n",
      "      PoolArea  MiscVal  MoSold  YrSold  \n",
      "0            0        0       2    2008  \n",
      "1            0        0       5    2007  \n",
      "2            0        0       9    2008  \n",
      "3            0        0       2    2006  \n",
      "4            0        0      12    2008  \n",
      "...        ...      ...     ...     ...  \n",
      "1455         0        0       8    2007  \n",
      "1456         0        0       2    2010  \n",
      "1457         0     2500       5    2010  \n",
      "1458         0        0       4    2010  \n",
      "1459         0        0       6    2008  \n",
      "\n",
      "[1460 rows x 36 columns]\n"
     ]
    }
   ],
   "source": [
    "#train data set\n",
    "y_train = data_train['SalePrice']\n",
    "# print(y_train.shape)\n",
    "X_train = data_train.drop(['Id','SalePrice'], axis = 1) \\\n",
    "                    .select_dtypes(exclude=['object'])\n",
    "\n",
    "#test data set\n",
    "X_test = data_test.drop(['Id'], axis = 1) \\\n",
    "                  .select_dtypes(exclude=['object'])\n",
    "\n",
    "print(X_train.shape)\n",
    "print(X_test.shape)\n",
    "print(X_train)"
   ]
  },
  {
   "cell_type": "code",
   "execution_count": 7,
   "id": "515bdde1",
   "metadata": {},
   "outputs": [
    {
     "name": "stdout",
     "output_type": "stream",
     "text": [
      "        feature  n_missing\n",
      "1   LotFrontage        259\n",
      "7    MasVnrArea          8\n",
      "24  GarageYrBlt         81\n"
     ]
    }
   ],
   "source": [
    "nan_counts = pd.DataFrame({\n",
    "    'feature': X_train.columns,\n",
    "    'n_missing': np.isnan(X_train.values).sum(axis=0)\n",
    "})\n",
    "print(nan_counts[nan_counts.n_missing > 0])\n",
    "\n",
    "# 2) Impute (e.g. with median)\n",
    "from sklearn.impute import SimpleImputer\n",
    "imputer = SimpleImputer(strategy='median')\n",
    "X_filled = pd.DataFrame(\n",
    "    imputer.fit_transform(X_train),\n",
    "    columns=X_train.columns,\n",
    "    index=X_train.index\n",
    ")"
   ]
  },
  {
   "cell_type": "code",
   "execution_count": 10,
   "id": "adeff42f",
   "metadata": {},
   "outputs": [
    {
     "name": "stdout",
     "output_type": "stream",
     "text": [
      "Intercept: 180921.19552489853\n",
      "First 5 coefs: [-7623.11170737 -1180.86976074  4283.47422569 24046.64754392\n",
      "  5075.12438205]\n"
     ]
    }
   ],
   "source": [
    "from sklearn.preprocessing import StandardScaler\n",
    "scaler   = StandardScaler()\n",
    "X_scaled = scaler.fit_transform(X_filled.values)\n",
    "m, n     = X_scaled.shape\n",
    "X_b      = np.c_[np.ones(m), X_scaled]\n",
    "y_vec    = y_train.values.reshape(-1,1)\n",
    "\n",
    "# 2) Init\n",
    "theta    = np.zeros((n+1,1))\n",
    "alpha    = 1e-3        # ← smaller!\n",
    "max_iters= 10000\n",
    "\n",
    "# 3) GD loop (no early stopping for now)\n",
    "for i in range(max_iters):\n",
    "    preds   = X_b.dot(theta)\n",
    "    errors  = preds - y_vec\n",
    "    grads   = (2/m) * X_b.T.dot(errors)\n",
    "    theta  -= alpha * grads\n",
    "\n",
    "# 4) Inspect\n",
    "print(\"Intercept:\", theta[0,0])\n",
    "print(\"First 5 coefs:\", theta[1:6,0])"
   ]
  }
 ],
 "metadata": {
  "kernelspec": {
   "display_name": "Python 3",
   "language": "python",
   "name": "python3"
  },
  "language_info": {
   "codemirror_mode": {
    "name": "ipython",
    "version": 3
   },
   "file_extension": ".py",
   "mimetype": "text/x-python",
   "name": "python",
   "nbconvert_exporter": "python",
   "pygments_lexer": "ipython3",
   "version": "3.12.3"
  }
 },
 "nbformat": 4,
 "nbformat_minor": 5
}
